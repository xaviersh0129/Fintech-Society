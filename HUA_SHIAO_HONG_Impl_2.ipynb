{
  "cells": [
    {
      "cell_type": "markdown",
      "metadata": {
        "id": "0HdWYqt6iBwr"
      },
      "source": [
        "#ARIMA Model"
      ]
    },
    {
      "cell_type": "markdown",
      "metadata": {
        "id": "Biimi8IJh_2G"
      },
      "source": [
        "Data Source are downloaded from https://www.investing.com/equities/nvidia-corp-historical-data"
      ]
    },
    {
      "cell_type": "code",
      "execution_count": 4,
      "metadata": {
        "id": "nBAbLwGNDfga"
      },
      "outputs": [],
      "source": [
        "import numpy as np\n",
        "import pandas as pd\n",
        "import matplotlib.pyplot as plt\n",
        "import plotly.express as px\n",
        "from statsmodels.tsa.arima.model import ARIMA\n",
        "from pmdarima import auto_arima\n",
        "import datetime\n",
        "import glob\n",
        "import os\n",
        "from statsmodels.tsa.stattools import adfuller"
      ]
    },
    {
      "cell_type": "code",
      "execution_count": 5,
      "metadata": {
        "id": "BEuP7OHhDju5"
      },
      "outputs": [],
      "source": [
        "# Function to create a DataFrame by concatenating multiple CSV files from a given directory\n",
        "def create_df(data_dir):\n",
        "    \"\"\"\n",
        "    Create a DataFrame by reading and consolidating data from CSV files in the given directory.\n",
        "\n",
        "    Args:\n",
        "        data_dir (str): Directory path containing CSV files.\n",
        "\n",
        "    Returns:\n",
        "        pd.DataFrame: Consolidated DataFrame with datetime index.\n",
        "    \"\"\"\n",
        "    # List all CSV files in the directory\n",
        "    file_list = glob.glob(os.path.join(data_dir, '*.csv'))\n",
        "    data = []\n",
        "\n",
        "    # Read and append data from each CSV file to create a consolidated DataFrame\n",
        "    for file in file_list:\n",
        "        df = pd.read_csv(file)\n",
        "        data.append(df)\n",
        "\n",
        "    # Concatenate the data from all CSV files\n",
        "    df = pd.concat(data)\n",
        "\n",
        "    # Set the \"Date\" column to a datetime format, handling different date formats\n",
        "    if df[\"Date\"].str.contains(\"/\").any():\n",
        "        try:\n",
        "            df[\"Date\"] = pd.to_datetime(df['Date'], format=\"%m/%d/%Y\")\n",
        "        except ValueError:\n",
        "            df[\"Date\"] = pd.to_datetime(df['Date'], format=\"%d/%m/%Y\")\n",
        "    elif df[\"Date\"].str.contains(\",\").any():\n",
        "        df[\"Date\"] = pd.to_datetime(df[\"Date\"], format=\"%b %d, %Y\")\n",
        "\n",
        "    # Sort the DataFrame by the \"Date\" column\n",
        "    df = df.sort_values(by=\"Date\")\n",
        "\n",
        "    # Clean the data and set the \"Date\" column as the index\n",
        "    df = df.drop(columns=[\"Change %\",\"Open\",\"High\",\"Low\", \"Vol.\"])\n",
        "    df = df.set_index(\"Date\")\n",
        "\n",
        "    # Resample the data to fill missing dates\n",
        "    df = df.resample('D').ffill()\n",
        "\n",
        "    # Convert the \"Price\" column to float type, handling comma-separated values\n",
        "    if df[\"Price\"].dtypes == object :\n",
        "      df[\"Price\"] = df[\"Price\"].str.replace(\",\",\"\").astype(np.float64)\n",
        "\n",
        "    df['log_Price'] = np.log(df['Price'])\n",
        "    return df"
      ]
    },
    {
      "cell_type": "code",
      "execution_count": 7,
      "metadata": {
        "colab": {
          "base_uri": "https://localhost:8080/",
          "height": 237
        },
        "id": "Rh_jUyuNDo54",
        "outputId": "ff3de330-a1b9-4bd9-ee80-69770c15a87f"
      },
      "outputs": [
        {
          "data": {
            "text/html": [
              "<div>\n",
              "<style scoped>\n",
              "    .dataframe tbody tr th:only-of-type {\n",
              "        vertical-align: middle;\n",
              "    }\n",
              "\n",
              "    .dataframe tbody tr th {\n",
              "        vertical-align: top;\n",
              "    }\n",
              "\n",
              "    .dataframe thead th {\n",
              "        text-align: right;\n",
              "    }\n",
              "</style>\n",
              "<table border=\"1\" class=\"dataframe\">\n",
              "  <thead>\n",
              "    <tr style=\"text-align: right;\">\n",
              "      <th></th>\n",
              "      <th>Price</th>\n",
              "      <th>log_Price</th>\n",
              "    </tr>\n",
              "    <tr>\n",
              "      <th>Date</th>\n",
              "      <th></th>\n",
              "      <th></th>\n",
              "    </tr>\n",
              "  </thead>\n",
              "  <tbody>\n",
              "    <tr>\n",
              "      <th>1999-01-25</th>\n",
              "      <td>0.45</td>\n",
              "      <td>-0.798508</td>\n",
              "    </tr>\n",
              "    <tr>\n",
              "      <th>1999-01-26</th>\n",
              "      <td>0.42</td>\n",
              "      <td>-0.867501</td>\n",
              "    </tr>\n",
              "    <tr>\n",
              "      <th>1999-01-27</th>\n",
              "      <td>0.42</td>\n",
              "      <td>-0.867501</td>\n",
              "    </tr>\n",
              "    <tr>\n",
              "      <th>1999-01-28</th>\n",
              "      <td>0.42</td>\n",
              "      <td>-0.867501</td>\n",
              "    </tr>\n",
              "    <tr>\n",
              "      <th>1999-01-29</th>\n",
              "      <td>0.40</td>\n",
              "      <td>-0.916291</td>\n",
              "    </tr>\n",
              "  </tbody>\n",
              "</table>\n",
              "</div>"
            ],
            "text/plain": [
              "            Price  log_Price\n",
              "Date                        \n",
              "1999-01-25   0.45  -0.798508\n",
              "1999-01-26   0.42  -0.867501\n",
              "1999-01-27   0.42  -0.867501\n",
              "1999-01-28   0.42  -0.867501\n",
              "1999-01-29   0.40  -0.916291"
            ]
          },
          "execution_count": 7,
          "metadata": {},
          "output_type": "execute_result"
        }
      ],
      "source": [
        "# Load data\n",
        "df = create_df(r\"/workspaces/Fintech-Society/NVDA Historical Data\")\n",
        "df.head()"
      ]
    },
    {
      "cell_type": "code",
      "execution_count": 8,
      "metadata": {
        "colab": {
          "base_uri": "https://localhost:8080/"
        },
        "id": "aWNdRzqPS7HJ",
        "outputId": "a23b6df4-6949-4522-c6e2-e5b6b6db4615"
      },
      "outputs": [
        {
          "name": "stdout",
          "output_type": "stream",
          "text": [
            "             Price    log_Price\n",
            "count  9035.000000  9035.000000\n",
            "mean     38.857126     2.066197\n",
            "std      80.411331     1.710820\n",
            "min       0.340000    -1.078810\n",
            "25%       2.710000     0.996949\n",
            "50%       4.420000     1.486140\n",
            "75%      36.630000     3.600867\n",
            "max     493.550000     6.201624\n"
          ]
        }
      ],
      "source": [
        "# Summary statistics of the dataset\n",
        "print(df.describe())"
      ]
    },
    {
      "cell_type": "code",
      "execution_count": 9,
      "metadata": {
        "id": "5SIhub0yWlBk"
      },
      "outputs": [],
      "source": [
        "# First-order differencing\n",
        "df['log_Price_diff1'] = df['log_Price'].diff(1)\n",
        "df['log_Price_diff1'] = df['log_Price_diff1'].fillna(0)  # Replace NaN with 0\n",
        "\n",
        "# Second-order differencing\n",
        "df['log_Price_diff2'] = df['log_Price_diff1'].diff(1)\n",
        "df['log_Price_diff2'] = df['log_Price_diff2'].fillna(0)  # Replace NaN with 0"
      ]
    },
    {
      "cell_type": "code",
      "execution_count": 10,
      "metadata": {
        "colab": {
          "base_uri": "https://localhost:8080/"
        },
        "id": "FcW8LReeW816",
        "outputId": "9034f1af-a276-46dc-afc8-43245565f567"
      },
      "outputs": [
        {
          "name": "stdout",
          "output_type": "stream",
          "text": [
            "ADF Statistic: -27.483959457272473\n",
            "p-value: 0.0\n",
            "The time series is stationary after 2nd-order differencing.\n"
          ]
        }
      ],
      "source": [
        "result = adfuller(df['log_Price_diff2'])\n",
        "print(\"ADF Statistic:\", result[0])\n",
        "print(\"p-value:\", result[1])\n",
        "\n",
        "if result[1] <= 0.05:\n",
        "    print(\"The time series is stationary after 2nd-order differencing.\")\n",
        "else:\n",
        "    print(\"The time series is not stationary after 2nd-order differencing.\")\n"
      ]
    },
    {
      "cell_type": "code",
      "execution_count": 11,
      "metadata": {
        "colab": {
          "base_uri": "https://localhost:8080/",
          "height": 472
        },
        "id": "7fxtBRMKXAKV",
        "outputId": "60df8035-914c-4e8b-d766-1ac2523a34f7"
      },
      "outputs": [
        {
          "data": {
            "image/png": "[encoded data removed]",
            "text/plain": [
              "<Figure size 640x480 with 1 Axes>"
            ]
          },
          "metadata": {},
          "output_type": "display_data"
        }
      ],
      "source": [
        "plt.plot(df.index, df['log_Price_diff2'])\n",
        "plt.title('Price Time Series')\n",
        "plt.xlabel('Date')\n",
        "plt.ylabel('Price')\n",
        "plt.show()"
      ]
    },
    {
      "cell_type": "code",
      "execution_count": 12,
      "metadata": {
        "colab": {
          "base_uri": "https://localhost:8080/"
        },
        "id": "MbBjt8iyXHZU",
        "outputId": "ee609f7e-6744-4648-8161-39fa3d79e9b5"
      },
      "outputs": [
        {
          "name": "stdout",
          "output_type": "stream",
          "text": [
            "Performing stepwise search to minimize aic\n",
            " ARIMA(2,0,2)(0,0,0)[0]             : AIC=inf, Time=5.56 sec\n",
            " ARIMA(0,0,0)(0,0,0)[0]             : AIC=-27231.638, Time=0.28 sec\n",
            " ARIMA(1,0,0)(0,0,0)[0]             : AIC=-29108.314, Time=0.13 sec\n",
            " ARIMA(0,0,1)(0,0,0)[0]             : AIC=inf, Time=1.73 sec\n",
            " ARIMA(2,0,0)(0,0,0)[0]             : AIC=-30766.534, Time=0.93 sec\n",
            " ARIMA(3,0,0)(0,0,0)[0]             : AIC=-31421.643, Time=0.42 sec\n",
            " ARIMA(4,0,0)(0,0,0)[0]             : AIC=-31931.624, Time=0.69 sec\n",
            " ARIMA(5,0,0)(0,0,0)[0]             : AIC=-32250.977, Time=0.95 sec\n",
            " ARIMA(5,0,1)(0,0,0)[0]             : AIC=inf, Time=7.73 sec\n",
            " ARIMA(4,0,1)(0,0,0)[0]             : AIC=inf, Time=10.76 sec\n",
            " ARIMA(5,0,0)(0,0,0)[0] intercept   : AIC=-32248.977, Time=3.70 sec\n",
            "\n",
            "Best model:  ARIMA(5,0,0)(0,0,0)[0]          \n",
            "Total fit time: 32.955 seconds\n",
            "                               SARIMAX Results                                \n",
            "==============================================================================\n",
            "Dep. Variable:                      y   No. Observations:                 9035\n",
            "Model:               SARIMAX(5, 0, 0)   Log Likelihood               16131.488\n",
            "Date:                Sun, 22 Oct 2023   AIC                         -32250.977\n",
            "Time:                        09:15:24   BIC                         -32208.324\n",
            "Sample:                    01-25-1999   HQIC                        -32236.466\n",
            "                         - 10-20-2023                                         \n",
            "Covariance Type:                  opg                                         \n",
            "==============================================================================\n",
            "                 coef    std err          z      P>|z|      [0.025      0.975]\n",
            "------------------------------------------------------------------------------\n",
            "ar.L1         -0.8254      0.004   -205.060      0.000      -0.833      -0.817\n",
            "ar.L2         -0.7867      0.004   -187.698      0.000      -0.795      -0.778\n",
            "ar.L3         -0.5657      0.006    -90.454      0.000      -0.578      -0.553\n",
            "ar.L4         -0.3809      0.005    -71.239      0.000      -0.391      -0.370\n",
            "ar.L5         -0.1870      0.004    -46.649      0.000      -0.195      -0.179\n",
            "sigma2         0.0016   2.76e-06    597.764      0.000       0.002       0.002\n",
            "===================================================================================\n",
            "Ljung-Box (L1) (Q):                   6.63   Jarque-Bera (JB):          42112681.31\n",
            "Prob(Q):                              0.01   Prob(JB):                         0.00\n",
            "Heteroskedasticity (H):               1.12   Skew:                            -0.72\n",
            "Prob(H) (two-sided):                  0.00   Kurtosis:                       337.46\n",
            "===================================================================================\n",
            "\n",
            "Warnings:\n",
            "[1] Covariance matrix calculated using the outer product of gradients (complex-step).\n"
          ]
        }
      ],
      "source": [
        "auto_model = auto_arima(df['log_Price_diff2'], seasonal=False, stepwise=True, trace=True)\n",
        "print(auto_model.summary())"
      ]
    },
    {
      "cell_type": "code",
      "execution_count": 13,
      "metadata": {
        "colab": {
          "base_uri": "https://localhost:8080/"
        },
        "id": "GNt8gYQ6X4ox",
        "outputId": "908cf8a1-84a6-4a44-9540-d875c9e0ba00"
      },
      "outputs": [
        {
          "name": "stdout",
          "output_type": "stream",
          "text": [
            "                               SARIMAX Results                                \n",
            "==============================================================================\n",
            "Dep. Variable:        log_Price_diff2   No. Observations:                 9035\n",
            "Model:                 ARIMA(5, 0, 0)   Log Likelihood               16131.488\n",
            "Date:                Sun, 22 Oct 2023   AIC                         -32248.977\n",
            "Time:                        09:15:35   BIC                         -32199.215\n",
            "Sample:                    01-25-1999   HQIC                        -32232.047\n",
            "                         - 10-20-2023                                         \n",
            "Covariance Type:                  opg                                         \n",
            "==============================================================================\n",
            "                 coef    std err          z      P>|z|      [0.025      0.975]\n",
            "------------------------------------------------------------------------------\n",
            "const      -1.893e-06      0.000     -0.014      0.989      -0.000       0.000\n",
            "ar.L1         -0.8254      0.004   -204.602      0.000      -0.833      -0.817\n",
            "ar.L2         -0.7867      0.004   -183.108      0.000      -0.795      -0.778\n",
            "ar.L3         -0.5657      0.006    -90.403      0.000      -0.578      -0.553\n",
            "ar.L4         -0.3809      0.005    -70.771      0.000      -0.391      -0.370\n",
            "ar.L5         -0.1870      0.004    -46.437      0.000      -0.195      -0.179\n",
            "sigma2         0.0016   2.96e-06    555.628      0.000       0.002       0.002\n",
            "===================================================================================\n",
            "Ljung-Box (L1) (Q):                   6.63   Jarque-Bera (JB):          42112681.26\n",
            "Prob(Q):                              0.01   Prob(JB):                         0.00\n",
            "Heteroskedasticity (H):               1.12   Skew:                            -0.72\n",
            "Prob(H) (two-sided):                  0.00   Kurtosis:                       337.46\n",
            "===================================================================================\n",
            "\n",
            "Warnings:\n",
            "[1] Covariance matrix calculated using the outer product of gradients (complex-step).\n"
          ]
        }
      ],
      "source": [
        "p, d, q = auto_model.order\n",
        "model = ARIMA(df['log_Price_diff2'], order=(p, d, q))\n",
        "model_fit = model.fit()\n",
        "\n",
        "# Display a summary of the model\n",
        "print(model_fit.summary())"
      ]
    },
    {
      "cell_type": "code",
      "execution_count": 31,
      "metadata": {
        "id": "YG0ViOJSZWct"
      },
      "outputs": [],
      "source": [
        "# Forecast future log prices\n",
        "forecast_period = 18  # Adjust the forecast horizon as needed\n",
        "forecast = model_fit.get_forecast(steps=forecast_period)\n",
        "\n",
        "# Extract the forecasted values and the associated standard errors\n",
        "forecast_values = forecast.predicted_mean  # Define forecast_values\n",
        "stderr = forecast.se_mean\n",
        "\n",
        "# Reverse the second-order differencing\n",
        "forecast_diff2 = np.cumsum(forecast_values)  # Reverse differencing\n",
        "\n",
        "# Reverse the first-order differencing\n",
        "forecast_diff1 = forecast_diff2 + df['log_Price'].iloc[-1]  # Start from the last value of the original series\n",
        "\n",
        "# Invert the log transformation\n",
        "forecast_original_scale = np.exp(forecast_diff1)"
      ]
    },
    {
      "cell_type": "code",
      "execution_count": 32,
      "metadata": {},
      "outputs": [],
      "source": [
        "new_df = pd.DataFrame(forecast_original_scale)\n",
        "new_df.columns = ['Price']\n",
        "new_df.index.name = \"Date\"\n",
        "df_copy = pd.DataFrame(df['Price'])\n",
        "df_copy = pd.concat([df_copy, new_df], ignore_index=False)"
      ]
    },
    {
      "cell_type": "code",
      "execution_count": 39,
      "metadata": {},
      "outputs": [
        {
          "data": {
            "text/plain": [
              "Date\n",
              "2023-09-21    410.170000\n",
              "2023-09-22    416.100000\n",
              "2023-09-23    416.100000\n",
              "2023-09-24    416.100000\n",
              "2023-09-25    422.220000\n",
              "2023-09-26    419.110000\n",
              "2023-09-27    424.680000\n",
              "2023-09-28    430.890000\n",
              "2023-09-29    434.990000\n",
              "2023-09-30    434.990000\n",
              "2023-10-01    434.990000\n",
              "2023-10-02    447.820000\n",
              "2023-10-03    435.170000\n",
              "2023-10-04    440.410000\n",
              "2023-10-05    446.880000\n",
              "2023-10-06    457.620000\n",
              "2023-10-07    457.620000\n",
              "2023-10-08    457.620000\n",
              "2023-10-09    452.730000\n",
              "2023-10-10    457.980000\n",
              "2023-10-11    468.060000\n",
              "2023-10-12    469.450000\n",
              "2023-10-13    454.610000\n",
              "2023-10-14    454.610000\n",
              "2023-10-15    454.610000\n",
              "2023-10-16    460.950000\n",
              "2023-10-17    439.380000\n",
              "2023-10-18    421.960000\n",
              "2023-10-19    421.010000\n",
              "2023-10-20    413.870000\n",
              "2023-10-21    413.420782\n",
              "2023-10-22    413.282195\n",
              "2023-10-23    410.636639\n",
              "2023-10-24    412.565394\n",
              "2023-10-25    414.449762\n",
              "2023-10-26    413.005546\n",
              "2023-10-27    412.653406\n",
              "2023-10-28    412.769237\n",
              "2023-10-29    412.684704\n",
              "2023-10-30    413.056851\n",
              "2023-10-31    413.151393\n",
              "2023-11-01    412.847178\n",
              "2023-11-02    412.820942\n",
              "2023-11-03    412.899510\n",
              "2023-11-04    412.918857\n",
              "2023-11-05    412.951178\n",
              "2023-11-06    412.928761\n",
              "2023-11-07    412.882941\n",
              "Freq: D, Name: Price, dtype: float64"
            ]
          },
          "execution_count": 39,
          "metadata": {},
          "output_type": "execute_result"
        }
      ],
      "source": [
        "df_copy.iloc[-30-forecast_period:,0]"
      ]
    },
    {
      "cell_type": "code",
      "execution_count": 40,
      "metadata": {
        "colab": {
          "base_uri": "https://localhost:8080/",
          "height": 542
        },
        "id": "zym0CpMJaxP6",
        "outputId": "1c94da3b-9b95-4b28-a7dd-5c290f62415d"
      },
      "outputs": [
        {
          "data": {
            "image/png": "[encoded data removed]",
            "text/plain": [
              "<Figure size 1000x600 with 1 Axes>"
            ]
          },
          "metadata": {},
          "output_type": "display_data"
        }
      ],
      "source": [
        "# Create a DataFrame with matching lengths for visualizing predictions\n",
        "df_pred = pd.DataFrame({\n",
        "    'Date': df_copy.index[-30-forecast_period:],\n",
        "    'Predictions': df_copy.iloc[-30-forecast_period:,0],\n",
        "    'Actual Prices': df_copy.iloc[-30-forecast_period:-forecast_period,0]\n",
        "})\n",
        "\n",
        "# Create a figure and axis\n",
        "plt.figure(figsize=(10, 6))\n",
        "\n",
        "# Plot Predictions\n",
        "plt.plot(df_pred['Date'], df_pred['Predictions'], label='Predictions', color='blue')\n",
        "\n",
        "# Plot Actual Prices\n",
        "plt.plot(df_pred['Date'], df_pred['Actual Prices'], label='Actual Prices', color='green')\n",
        "\n",
        "# Set labels and title\n",
        "plt.xlabel('Date')\n",
        "plt.ylabel('Stock Price')\n",
        "plt.title('NVDA Stock Price Prediction')\n",
        "\n",
        "# Add legend\n",
        "plt.legend()\n",
        "\n",
        "# Show the plot\n",
        "plt.show()\n"
      ]
    },
    {
      "cell_type": "code",
      "execution_count": 41,
      "metadata": {
        "colab": {
          "base_uri": "https://localhost:8080/"
        },
        "id": "RJbOG2R0doJi",
        "outputId": "8b0fdf8e-d01c-4335-b394-1dcd5bdffcd3"
      },
      "outputs": [
        {
          "data": {
            "text/plain": [
              "2023-10-25    414.449762\n",
              "2023-10-26    413.005546\n",
              "2023-10-27    412.653406\n",
              "2023-10-28    412.769237\n",
              "2023-10-29    412.684704\n",
              "2023-10-30    413.056851\n",
              "2023-10-31    413.151393\n",
              "2023-11-01    412.847178\n",
              "2023-11-02    412.820942\n",
              "2023-11-03    412.899510\n",
              "2023-11-04    412.918857\n",
              "2023-11-05    412.951178\n",
              "2023-11-06    412.928761\n",
              "2023-11-07    412.882941\n",
              "Freq: D, dtype: float64"
            ]
          },
          "execution_count": 41,
          "metadata": {},
          "output_type": "execute_result"
        }
      ],
      "source": [
        "predictions = new_series[-14:]\n",
        "predictions"
      ]
    }
  ],
  "metadata": {
    "colab": {
      "provenance": []
    },
    "kernelspec": {
      "display_name": "Python 3",
      "name": "python3"
    },
    "language_info": {
      "codemirror_mode": {
        "name": "ipython",
        "version": 3
      },
      "file_extension": ".py",
      "mimetype": "text/x-python",
      "name": "python",
      "nbconvert_exporter": "python",
      "pygments_lexer": "ipython3",
      "version": "3.10.8"
    }
  },
  "nbformat": 4,
  "nbformat_minor": 0
}
